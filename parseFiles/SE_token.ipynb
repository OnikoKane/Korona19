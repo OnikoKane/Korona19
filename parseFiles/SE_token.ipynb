{
 "cells": [
  {
   "cell_type": "code",
   "execution_count": 1,
   "metadata": {},
   "outputs": [
    {
     "name": "stderr",
     "output_type": "stream",
     "text": [
      "Building prefix dict from the default dictionary ...\n",
      "Loading model from cache C:\\Users\\Kane\\AppData\\Local\\Temp\\jieba.cache\n",
      "Loading model cost 0.654 seconds.\n",
      "Prefix dict has been built successfully.\n"
     ]
    }
   ],
   "source": [
    "import jieba\n",
    "from collections import Counter\n",
    "import jieba.posseg as psg\n",
    "jieba.load_userdict(r'stop_words/SWs.txt')"
   ]
  },
  {
   "cell_type": "code",
   "execution_count": 2,
   "metadata": {},
   "outputs": [],
   "source": [
    "sequence = '新型冠状病毒'\n",
    "# sequence = sequence.replace(' ','')"
   ]
  },
  {
   "cell_type": "code",
   "execution_count": 3,
   "metadata": {},
   "outputs": [
    {
     "data": {
      "text/plain": [
       "'新型冠状病毒'"
      ]
     },
     "execution_count": 3,
     "metadata": {},
     "output_type": "execute_result"
    }
   ],
   "source": [
    "sequence.lower()"
   ]
  },
  {
   "cell_type": "code",
   "execution_count": 4,
   "metadata": {},
   "outputs": [],
   "source": [
    "nerRt = [(word, tag) for word, tag in psg.cut(sequence)]"
   ]
  },
  {
   "cell_type": "code",
   "execution_count": 5,
   "metadata": {},
   "outputs": [
    {
     "data": {
      "text/plain": [
       "[('新型冠状病毒', 'x')]"
      ]
     },
     "execution_count": 5,
     "metadata": {},
     "output_type": "execute_result"
    }
   ],
   "source": [
    "nerRt"
   ]
  },
  {
   "cell_type": "code",
   "execution_count": 6,
   "metadata": {},
   "outputs": [],
   "source": [
    "spe = ['新冠','新型冠状','2019-nCoV','covid2019','新冠病毒']\n",
    "if sequence in spe:\n",
    "    print(sequence)"
   ]
  },
  {
   "cell_type": "code",
   "execution_count": 7,
   "metadata": {},
   "outputs": [
    {
     "data": {
      "text/plain": [
       "[('新型冠状病毒', 'x')]"
      ]
     },
     "execution_count": 7,
     "metadata": {},
     "output_type": "execute_result"
    }
   ],
   "source": [
    "[(word,tag) for word, tag in psg.cut(sequence)]"
   ]
  },
  {
   "cell_type": "code",
   "execution_count": 10,
   "metadata": {},
   "outputs": [
    {
     "data": {
      "text/plain": [
       "['新型', '冠状', '病毒', '新型冠状病毒']"
      ]
     },
     "execution_count": 10,
     "metadata": {},
     "output_type": "execute_result"
    }
   ],
   "source": [
    "search_words_list = []\n",
    "wordsList = sequence.replace(\"+\",\" \") #查询的+会被urlEncode成%2B,所以不用特殊处理+字符\n",
    "wordsList = [x for x in jieba.cut_for_search(''.join(wordsList)) if len(x)>1] #长度小于2的自动过滤掉，暂时认为是无意义的\n",
    "# wordsList = Counter(wordsList)\n",
    "# wordsList[0][0]\n",
    "# for word in wordsList:\n",
    "#             search_words_list.append(word[0])\n",
    "# print(search_words_list)\n",
    "wordsList\n",
    "\n",
    "\n",
    "# 高亮\n",
    "# for info in result[\"hits\"][\"hits\"]:\n",
    "#             for word in search_words_list:\n",
    "#                 info[\"title\"].replace(str(word),'<span class=\"highlighted\">'+word+'</span>')\n",
    "#                 info[\"body\"].replace(str(word), '<span class=\"highlighted\">' + word + '</span>')"
   ]
  },
  {
   "cell_type": "code",
   "execution_count": 13,
   "metadata": {},
   "outputs": [],
   "source": [
    "from py2neo import Graph, Node, Relationship, NodeMatcher, RelationshipMatcher\n",
    "from py2neo.data import Node, Relationship\n",
    "\n",
    "url = 'localhost:7474'\n",
    "username = 'neo4j'\n",
    "# password = 'neo4j'\n",
    "password = 'kaneyd..369'\n",
    "\n",
    "graph = Graph(url, username=username, password=password)\n",
    "\n",
    "def searchAll(label, value):\n",
    "    rt = graph.run(\"match (s:`{}`)-[p]->(o) where s.value=~'.*{}.*' return type(p), o.value, labels(o)\".format(label, value)).data()\n",
    "    if len(rt) < 6:\n",
    "        return -1\n",
    "    else:\n",
    "        property_dict = {}\n",
    "        for po in rt:\n",
    "            if po['type(p)'] not in property_dict:\n",
    "                property_dict[po['type(p)']] = [(po['labels(o)'][0],po['o.value']),]\n",
    "            else:\n",
    "                property_dict[po['type(p)']].append((po['labels(o)'][0],po['o.value']))\n",
    "        return property_dict"
   ]
  },
  {
   "cell_type": "code",
   "execution_count": 22,
   "metadata": {},
   "outputs": [
    {
     "data": {
      "text/plain": [
       "[{'labels(s)': ['人物']}]"
      ]
     },
     "execution_count": 22,
     "metadata": {},
     "output_type": "execute_result"
    }
   ],
   "source": [
    "# graph\n",
    "from py2neo import Graph\n",
    "\n",
    "url = 'localhost:7474'\n",
    "username = 'neo4j'\n",
    "# password = 'neo4j'\n",
    "password = 'kaneyd..369'\n",
    "graph = Graph(url, username=username, password=password)\n",
    "value = '钟南山'\n",
    "pkLabel = graph.run(\"match (s) where s.value= '{}' return labels(s)\".format(value)).data()\n",
    "rtTo = graph.run(\"match (s)-[p]->(o) where s.value= '{}' return type(p), o.value, labels(o)\".format(value)).data()\n",
    "rtFrom = graph.run(\"match (s)<-[p]-(o) where s.value= '{}' return type(p), o.value, labels(o)\".format(value)).data()\n",
    "property_dictTo = {}\n",
    "for po in rtTo:\n",
    "    if po['type(p)'] not in property_dictTo:\n",
    "        property_dictTo[po['type(p)']] = [(po['labels(o)'][0], po['o.value']), ]\n",
    "    else:\n",
    "        property_dictTo[po['type(p)']].append((po['labels(o)'][0], po['o.value']))\n",
    "        \n",
    "property_dictFrom = {}\n",
    "for po in rtFrom:\n",
    "    if po['type(p)'] not in property_dictFrom:\n",
    "        property_dictFrom[po['type(p)']] = [(po['labels(o)'][0], po['o.value']), ]\n",
    "    else:\n",
    "        property_dictFrom[po['type(p)']].append((po['labels(o)'][0], po['o.value']))\n",
    "# pkLabel[0]['labels(s)']\n",
    "pkLabel"
   ]
  },
  {
   "cell_type": "code",
   "execution_count": 85,
   "metadata": {},
   "outputs": [
    {
     "data": {
      "text/plain": [
       "{'相关疾病': [('战役', '新型冠状病毒战役')], '导致': [('病毒', '新型冠状病毒 2019-nCoV')]}"
      ]
     },
     "execution_count": 85,
     "metadata": {},
     "output_type": "execute_result"
    }
   ],
   "source": [
    "property_dictTo = property_dictFrom\n",
    "property_dictTo"
   ]
  },
  {
   "cell_type": "code",
   "execution_count": 88,
   "metadata": {},
   "outputs": [
    {
     "data": {
      "text/plain": [
       "{'相关疾病': [('战役', '新型冠状病毒战役')], '导致': [('病毒', '新型冠状病毒 2019-nCoV')]}"
      ]
     },
     "execution_count": 88,
     "metadata": {},
     "output_type": "execute_result"
    }
   ],
   "source": [
    "property_dictFrom"
   ]
  },
  {
   "cell_type": "code",
   "execution_count": 90,
   "metadata": {},
   "outputs": [
    {
     "name": "stdout",
     "output_type": "stream",
     "text": [
      "[{'type(p)': '爆发地点', 'o.value': '武汉', 'labels(o)': ['城市']}, {'type(p)': '相关疾病', 'o.value': '新型肺炎', 'labels(o)': ['疾病']}]\n",
      "[]\n"
     ]
    },
    {
     "data": {
      "text/plain": [
       "[{'type(p)': '爆发地点', 'o.value': '武汉', 'labels(o)': ['城市']},\n",
       " {'type(p)': '相关疾病', 'o.value': '新型肺炎', 'labels(o)': ['疾病']}]"
      ]
     },
     "execution_count": 90,
     "metadata": {},
     "output_type": "execute_result"
    }
   ],
   "source": [
    "\n",
    "rtTo1 = graph.run(\"match (s)-[p]->(o) where s.value= '{}' return type(p), o.value, labels(o)\".format('新型冠状病毒战役')).data()\n",
    "rtTo2 = graph.run(\"match (s)-[p]->(o) where s.value= '{}' return type(p), o.value, labels(o)\".format('新型肺炎')).data()\n",
    "# rtFrom = graph.run(\"match (s)<-[p]-(o) where s.value= '{}' return type(p), o.value, labels(o)\".format(value)).data()\n",
    "rt = rtTo1 + rtTo2\n",
    "print(rtTo1)\n",
    "print(rtTo2)\n",
    "rt"
   ]
  },
  {
   "cell_type": "code",
   "execution_count": 92,
   "metadata": {},
   "outputs": [
    {
     "name": "stdout",
     "output_type": "stream",
     "text": [
      "[{'type(p)': '参与战役', 'o.value': '张继先', 'labels(o)': ['人物']}, {'type(p)': '参与战役', 'o.value': '钟南山', 'labels(o)': ['人物']}, {'type(p)': '参与战役', 'o.value': '张定宇', 'labels(o)': ['人物']}, {'type(p)': '参与战役', 'o.value': '李兰娟', 'labels(o)': ['人物']}, {'type(p)': '参与战役', 'o.value': '张文宏', 'labels(o)': ['人物']}]\n",
      "[{'type(p)': '相关疾病', 'o.value': '新型冠状病毒战役', 'labels(o)': ['战役']}, {'type(p)': '导致', 'o.value': '新型冠状病毒 2019-nCoV', 'labels(o)': ['病毒']}]\n"
     ]
    },
    {
     "data": {
      "text/plain": [
       "[{'type(p)': '参与战役', 'o.value': '张继先', 'labels(o)': ['人物']},\n",
       " {'type(p)': '参与战役', 'o.value': '钟南山', 'labels(o)': ['人物']},\n",
       " {'type(p)': '参与战役', 'o.value': '张定宇', 'labels(o)': ['人物']},\n",
       " {'type(p)': '参与战役', 'o.value': '李兰娟', 'labels(o)': ['人物']},\n",
       " {'type(p)': '参与战役', 'o.value': '张文宏', 'labels(o)': ['人物']},\n",
       " {'type(p)': '相关疾病', 'o.value': '新型冠状病毒战役', 'labels(o)': ['战役']},\n",
       " {'type(p)': '导致', 'o.value': '新型冠状病毒 2019-nCoV', 'labels(o)': ['病毒']}]"
      ]
     },
     "execution_count": 92,
     "metadata": {},
     "output_type": "execute_result"
    }
   ],
   "source": [
    "value = ['新型肺炎','新型冠状病毒战役']\n",
    "rtTo1 = graph.run(\"match (s)<-[p]-(o) where s.value= '{}' return type(p), o.value, labels(o)\".format('新型冠状病毒战役')).data()\n",
    "rtTo2 = graph.run(\"match (s)<-[p]-(o) where s.value= '{}' return type(p), o.value, labels(o)\".format(v)).data() for in value\n",
    "rt = rtTo1 + rtTo2\n",
    "print(rtTo1)\n",
    "print(rtTo2)\n",
    "rt"
   ]
  },
  {
   "cell_type": "code",
   "execution_count": 103,
   "metadata": {},
   "outputs": [],
   "source": [
    "values = ['新型肺炎','新型冠状病毒战役']\n",
    "rtTo = []\n",
    "for v in values: \n",
    "    rtTo += graph.run(\"match (s)<-[p]-(o) where s.value= '{}' return type(p), o.value, labels(o)\".format(v)).data()\n",
    "property_dictTo = {}\n",
    "for po in rtTo:\n",
    "    if po['type(p)'] not in property_dictTo:\n",
    "        property_dictTo[po['type(p)']] = [(po['labels(o)'][0], po['o.value']), ]\n",
    "    else:\n",
    "        property_dictTo[po['type(p)']].append((po['labels(o)'][0], po['o.value']))"
   ]
  },
  {
   "cell_type": "code",
   "execution_count": 104,
   "metadata": {},
   "outputs": [
    {
     "data": {
      "text/plain": [
       "{'相关疾病': [('战役', '新型冠状病毒战役')],\n",
       " '导致': [('病毒', '新型冠状病毒 2019-nCoV')],\n",
       " '参与战役': [('人物', '张继先'),\n",
       "  ('人物', '钟南山'),\n",
       "  ('人物', '张定宇'),\n",
       "  ('人物', '李兰娟'),\n",
       "  ('人物', '张文宏')],\n",
       " '别名': [('Concept String', '新冠'),\n",
       "  ('Concept String', '新型冠状'),\n",
       "  ('Concept String', '2019-nCoV'),\n",
       "  ('Concept String', 'covid2019'),\n",
       "  ('Concept String', '新冠病毒')]}"
      ]
     },
     "execution_count": 104,
     "metadata": {},
     "output_type": "execute_result"
    }
   ],
   "source": [
    "property_dictTo['别名'] = [('Concept String', n) for n in ['新冠', '新型冠状', '2019-nCoV', 'covid2019', '新冠病毒']]\n",
    "property_dictTo"
   ]
  },
  {
   "cell_type": "code",
   "execution_count": 102,
   "metadata": {},
   "outputs": [
    {
     "data": {
      "text/plain": [
       "[('Concept String', '新冠'),\n",
       " ('Concept String', '新型冠状'),\n",
       " ('Concept String', '2019-nCoV'),\n",
       " ('Concept String', 'covid2019'),\n",
       " ('Concept String', '新冠病毒')]"
      ]
     },
     "execution_count": 102,
     "metadata": {},
     "output_type": "execute_result"
    }
   ],
   "source": [
    "[('Concept String', n) for n in ['新冠', '新型冠状', '2019-nCoV', 'covid2019', '新冠病毒']]"
   ]
  },
  {
   "cell_type": "code",
   "execution_count": null,
   "metadata": {},
   "outputs": [],
   "source": []
  }
 ],
 "metadata": {
  "kernelspec": {
   "display_name": "Python 3",
   "language": "python",
   "name": "python3"
  },
  "language_info": {
   "codemirror_mode": {
    "name": "ipython",
    "version": 3
   },
   "file_extension": ".py",
   "mimetype": "text/x-python",
   "name": "python",
   "nbconvert_exporter": "python",
   "pygments_lexer": "ipython3",
   "version": "3.7.4"
  }
 },
 "nbformat": 4,
 "nbformat_minor": 2
}
