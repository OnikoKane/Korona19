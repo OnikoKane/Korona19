{
 "cells": [
  {
   "cell_type": "code",
   "execution_count": 22,
   "metadata": {},
   "outputs": [],
   "source": [
    "import pandas as pd\n",
    "import numpy as np\n",
    "import datetime \n",
    "import json"
   ]
  },
  {
   "cell_type": "code",
   "execution_count": 23,
   "metadata": {},
   "outputs": [],
   "source": [
    "def is_date(strdate):\n",
    "    '''判断是否是一个有效的日期字符串'''\n",
    "    try:\n",
    "        if \":\" in strdate:\n",
    "            datetime.datetime.strptime(strdate, \"%Y-%m-%d %H:%M:%S\")\n",
    "        else:\n",
    "            datetime.datetime.strptime(strdate, \"%Y-%m-%d\")\n",
    "        return True\n",
    "    except:\n",
    "        return False"
   ]
  },
  {
   "cell_type": "code",
   "execution_count": 24,
   "metadata": {},
   "outputs": [],
   "source": [
    "c_t = \"rdfs:Class\"\n",
    "p_t = \"rdf:Property\"\n",
    "label_t = \"rdfs:label\"\n",
    "c_xml = \"http://www.openkg.cn/COVID-19/epidemiology/class/\"\n",
    "p_xml = \"http://www.openkg.cn/COVID-19/epidemiology/property/\"\n",
    "r_xml = \"http://www.openkg.cn/COVID-19/epidemiology/resource/\"\n",
    "# label标签 ：\"rdfs:label\"\n",
    "path = r\"data/流行病.json\""
   ]
  },
  {
   "cell_type": "code",
   "execution_count": 25,
   "metadata": {},
   "outputs": [],
   "source": [
    "'''创建Map'''\n",
    "class_map = {}\n",
    "property_map = {}"
   ]
  },
  {
   "cell_type": "code",
   "execution_count": 16,
   "metadata": {},
   "outputs": [],
   "source": [
    "with open(path, encoding='utf-8') as f:\n",
    "    f = json.load(f)['@graph']\n",
    "    for G in f:\n",
    "        if G['@id'].find(c_xml) != -1:\n",
    "            class_map[G['@id'].split(c_xml)[-1]] = G[label_t]\n",
    "        elif G['@type'] == p_t:\n",
    "            if G['@id'].find(p_xml) != -1:\n",
    "                property_map[G['@id'].split(p_xml)[-1]] = G[label_t]\n",
    "            else:\n",
    "                property_map[G['@id'].replace(':','')] = G[label_t]\n",
    "        else:\n",
    "            pass"
   ]
  },
  {
   "cell_type": "code",
   "execution_count": 26,
   "metadata": {},
   "outputs": [],
   "source": [
    "entity_id = []\n",
    "entity_value = []\n",
    "entity_label = []\n",
    "rel_from = []\n",
    "rel_to = []\n",
    "rel_type = []\n",
    "dateC = 1\n",
    "stringC = 1\n",
    "\n",
    "entity = pd.DataFrame()\n",
    "rel = pd.DataFrame()"
   ]
  },
  {
   "cell_type": "code",
   "execution_count": 18,
   "metadata": {},
   "outputs": [],
   "source": [
    "with open(path, encoding='utf-8') as f:\n",
    "    f = json.load(f)\n",
    "    for G in f:\n",
    "        if G['@id'].find(r_xml) !=-1 :\n",
    "            r_id = G['@id'].split(r_xml)[-1] # main resource的 RID\n",
    "            entity_id.append(r_id)\n",
    "            entity_value.append(G[label_t])\n",
    "            entity_label.append(class_map[ G['@type'].split(c_xml)[-1] ])\n",
    "            '''Rel'''\n",
    "            for k in G.keys():\n",
    "                if k.find(p_xml)!=-1:\n",
    "                    # 一个PID可能有多个对应的Resource 或者是单独的String/Date\n",
    "                    ktail = k.split(p_xml)[-1] #截去xml 保留P+ID\n",
    "                    # 如果是string则是@value 而若是resource_map则是@id\n",
    "                    if '@id' in G[k][-1]:\n",
    "                        if G[k][-1]['@id'].find(r_xml)!=-1: \n",
    "                            for v in G[k]:\n",
    "                                rel_from.append(r_id)\n",
    "                                rel_type.append(property_map[ktail]) # 创建main resource和property\n",
    "                                rel_to.append(v['@id'].split(r_xml)[-1])\n",
    "                    elif '@value' in G[k][-1]:\n",
    "                        rel_from.append(r_id)\n",
    "                        rel_type.append(property_map[ktail]) # 创建main resource和property\n",
    "                        \n",
    "                        if is_date(G[k][-1]['@value']) == True: # 若是date字符串则 需要创建entity 并设置RID\n",
    "                            dr_id = 'dR'+ str(dateC) # Character_Date dR+ID\n",
    "                            dateC += 1\n",
    "                            entity_id.append(dr_id)\n",
    "                            entity_value.append(G[k][-1]['@value'])\n",
    "                            entity_label.append('Goods_Date')\n",
    "                            rel_to.append(dr_id) # 记得加上rel_to 连接main resource\n",
    "                            \n",
    "                        else:\n",
    "                        # 若是String的值 同样需要创建entity\n",
    "                            sr_id = 'sR'+ str(stringC) # Character_String sR+ID\n",
    "                            stringC += 1\n",
    "                            entity_id.append(sr_id)\n",
    "                            entity_value.append(G[k][-1]['@value'])\n",
    "                            entity_label.append('Goods_String')\n",
    "                            rel_to.append(sr_id) # 记得加上rel_to 连接main resource"
   ]
  },
  {
   "cell_type": "code",
   "execution_count": 19,
   "metadata": {},
   "outputs": [
    {
     "name": "stdout",
     "output_type": "stream",
     "text": [
      "880\n",
      "880\n",
      "880\n",
      "777\n",
      "777\n",
      "777\n"
     ]
    }
   ],
   "source": [
    "print(len(entity_id))\n",
    "print(len(entity_value))\n",
    "print(len(entity_label))\n",
    "print(len(rel_from))\n",
    "print(len(rel_to))\n",
    "print(len(rel_type))"
   ]
  },
  {
   "cell_type": "code",
   "execution_count": 20,
   "metadata": {},
   "outputs": [],
   "source": [
    "entity['Goods:ID(Goods-ID)'] = entity_id\n",
    "entity['value'] = entity_value\n",
    "entity[':LABEL'] = entity_label\n",
    "rel[':START_ID(Goods-ID)'] = rel_from\n",
    "rel[':END_ID(Goods-ID)'] = rel_to\n",
    "rel[':TYPE'] = rel_type"
   ]
  },
  {
   "cell_type": "code",
   "execution_count": 22,
   "metadata": {},
   "outputs": [],
   "source": [
    "entity.to_csv(r'output/goods_entity.csv', encoding='utf-8', index=False)\n",
    "rel.to_csv(r'output/goods_rel.csv', encoding='utf-8',  index=False)"
   ]
  },
  {
   "cell_type": "code",
   "execution_count": null,
   "metadata": {},
   "outputs": [],
   "source": []
  }
 ],
 "metadata": {
  "kernelspec": {
   "display_name": "Python 3",
   "language": "python",
   "name": "python3"
  },
  "language_info": {
   "codemirror_mode": {
    "name": "ipython",
    "version": 3
   },
   "file_extension": ".py",
   "mimetype": "text/x-python",
   "name": "python",
   "nbconvert_exporter": "python",
   "pygments_lexer": "ipython3",
   "version": "3.7.4"
  }
 },
 "nbformat": 4,
 "nbformat_minor": 2
}
