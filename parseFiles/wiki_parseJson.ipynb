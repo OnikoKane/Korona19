{
 "cells": [
  {
   "cell_type": "code",
   "execution_count": 21,
   "metadata": {},
   "outputs": [],
   "source": [
    "import pandas as pd\n",
    "import numpy as np\n",
    "import datetime \n",
    "import json"
   ]
  },
  {
   "cell_type": "code",
   "execution_count": 22,
   "metadata": {},
   "outputs": [],
   "source": [
    "def is_date(strdate):\n",
    "    '''判断是否是一个有效的日期字符串'''\n",
    "    try:\n",
    "        datetime.datetime.strptime(strdate, \"%m/%d/%Y, %H:%M:%S\")\n",
    "        return True\n",
    "    except:\n",
    "        return False"
   ]
  },
  {
   "cell_type": "code",
   "execution_count": 23,
   "metadata": {},
   "outputs": [],
   "source": [
    "c_t = \"http://www.w3.org/2000/01/rdf-schema#Class\"\n",
    "p_t = \"http://www.w3.org/1999/02/22-rdf-syntax-ns#Property\"\n",
    "c_xml = \"http://www.openkg.cn/COVID-19/wiki/class/\"\n",
    "p_xml = \"http://www.openkg.cn/COVID-19/wiki/property/\"\n",
    "r_xml = \"http://www.openkg.cn/COVID-19/wiki/resource/\"\n",
    "\n",
    "path = r\"data/百科.json\""
   ]
  },
  {
   "cell_type": "code",
   "execution_count": 24,
   "metadata": {},
   "outputs": [],
   "source": [
    "'''创建Map'''\n",
    "class_map = {}\n",
    "property_map = {}"
   ]
  },
  {
   "cell_type": "code",
   "execution_count": 25,
   "metadata": {},
   "outputs": [],
   "source": [
    "with open(path, encoding='utf-8') as f:\n",
    "    f = json.load(f)['@graph']\n",
    "    for G in f:\n",
    "        if G['@type'] == c_t:\n",
    "            if G['@id'].find(c_xml) != -1:\n",
    "                class_map[G['@id'].split(c_xml)[-1]] = G['label']['@value']\n",
    "        elif G['@type'] == p_t:\n",
    "            if G['@id'].find(p_xml) != -1:\n",
    "                property_map[G['@id'].split(p_xml)[-1]] = G['label']['@value']\n",
    "            else:\n",
    "                property_map[G['@id'].replace(':','')] = G['label']['@value']\n",
    "        else:\n",
    "            pass"
   ]
  },
  {
   "cell_type": "code",
   "execution_count": 26,
   "metadata": {},
   "outputs": [
    {
     "data": {
      "text/plain": [
       "{'P0': '名称',\n",
       " 'P1': '科',\n",
       " 'P2': '目',\n",
       " 'P3': '属',\n",
       " 'P4': '病毒形状',\n",
       " 'P5': '传播途径',\n",
       " 'P6': '名称',\n",
       " 'P7': '医学专科',\n",
       " 'P8': '发病部位',\n",
       " 'P9': '临床表现',\n",
       " 'P10': '常见病因',\n",
       " 'P11': '传染性',\n",
       " 'P12': '病原类型',\n",
       " 'P13': '名称',\n",
       " 'P14': '科',\n",
       " 'P15': '界',\n",
       " 'P16': '属',\n",
       " 'P17': '名称',\n",
       " 'P18': '类型',\n",
       " 'P19': '剂量',\n",
       " 'P20': '是否处方药',\n",
       " 'P21': '不良反应',\n",
       " 'P22': '禁忌',\n",
       " 'P23': '名称',\n",
       " 'P24': '别称',\n",
       " 'P25': '病因',\n",
       " 'P26': '发病部位',\n",
       " 'P27': '临床表现',\n",
       " 'P28': '传染性',\n",
       " 'P29': '就诊科室',\n",
       " 'P30': '多发人群',\n",
       " 'P31': '相关检查',\n",
       " 'P32': '名称',\n",
       " 'P33': '学科级数',\n",
       " 'P34': '学科分支',\n",
       " 'P35': '常见疾病',\n",
       " 'P36': '研究领域',\n",
       " 'P37': '主要检查方法',\n",
       " 'P38': '主要治疗方法',\n",
       " 'P39': '中文名',\n",
       " 'P40': '外文名',\n",
       " 'P41': '分类',\n",
       " 'P42': '作用',\n",
       " 'P43': '正常值',\n",
       " 'P44': '来源',\n",
       " 'P45': '来源',\n",
       " 'P46': '来源',\n",
       " 'P47': '来源',\n",
       " 'P48': '来源',\n",
       " 'P49': '来源',\n",
       " 'P50': '来源',\n",
       " 'P51': '引起',\n",
       " 'P52': '引起',\n",
       " 'P53': '可医治',\n",
       " 'P54': '适用科室',\n",
       " 'P55': '适用症状',\n",
       " 'P56': '适用疾病',\n",
       " 'P57': '常用药物',\n",
       " 'P58': '就诊于',\n",
       " 'P59': '相关疾病',\n",
       " 'P60': '临床症状',\n",
       " 'P61': '主要病因',\n",
       " 'P62': '常用药物',\n",
       " 'P63': '就诊科室',\n",
       " 'P64': '相关症状',\n",
       " 'P65': 'sameAs',\n",
       " 'P66': 'sameAs',\n",
       " 'P67': 'sameAs',\n",
       " 'P68': 'sameAs',\n",
       " 'P69': 'sameAs',\n",
       " 'P70': 'sameAs',\n",
       " 'P71': 'sameAs',\n",
       " 'P72': 'sameAs'}"
      ]
     },
     "execution_count": 26,
     "metadata": {},
     "output_type": "execute_result"
    }
   ],
   "source": [
    "property_map"
   ]
  },
  {
   "cell_type": "code",
   "execution_count": 27,
   "metadata": {},
   "outputs": [],
   "source": [
    "entity_id = []\n",
    "entity_value = []\n",
    "entity_label = []\n",
    "rel_from = []\n",
    "rel_to = []\n",
    "rel_type = []\n",
    "dateC = 1\n",
    "stringC = 1\n",
    "\n",
    "entity = pd.DataFrame()\n",
    "rel = pd.DataFrame()"
   ]
  },
  {
   "cell_type": "code",
   "execution_count": 28,
   "metadata": {},
   "outputs": [],
   "source": [
    "with open(path, encoding='utf-8') as f:\n",
    "    f = json.load(f)['@graph']\n",
    "    for G in f:\n",
    "        if G['@type'].find(c_xml)!= -1:\n",
    "            r_id = G['@id'].split(r_xml)[-1] # main resource的 RID\n",
    "            entity_id.append(r_id)\n",
    "            entity_value.append(G['label']['@value'])\n",
    "            entity_label.append(class_map[G['@type'].split(c_xml)[-1]])\n",
    "            for k in G.keys():\n",
    "                if k.startswith('P'):\n",
    "                    # 一个PID可能有多个对应的Resource 或者是单独的String/Date\n",
    "                    if type(G[k]) == str:\n",
    "                        rel_from.append(r_id)\n",
    "                        rel_type.append(property_map[k]) # 创建main resource和property\n",
    "                        if is_date(G[k]) == True: # 若是date字符串则 需要创建entity 并设置RID\n",
    "                            dr_id = 'dR'+ str(dateC) # Character_Date dR+ID\n",
    "                            dateC += 1\n",
    "                            entity_id.append(dr_id)\n",
    "                            entity_value.append(G[k])\n",
    "                            entity_label.append('Wiki_Date')\n",
    "                            rel_to.append(dr_id) # 记得加上rel_to 连接main resource\n",
    "                            \n",
    "                        elif G[k].find(r_xml) == -1:\n",
    "                        # 若是String的值 同样需要创建entity\n",
    "                            sr_id = 'sR'+ str(stringC) # Character_String sR+ID\n",
    "                            stringC += 1\n",
    "                            entity_id.append(sr_id)\n",
    "                            entity_value.append(G[k])\n",
    "                            entity_label.append('Wiki_String')\n",
    "                            rel_to.append(sr_id) # 记得加上rel_to 连接main resource\n",
    "                        else:\n",
    "                            rel_to.append(G[k].split(r_xml)[-1])\n",
    "                    else: # 若不是str那么就是list, 即url_list\n",
    "                        for url in G[k]:\n",
    "                            rel_from.append(r_id)\n",
    "                            rel_type.append(property_map[k]) # 创建main resource和property\n",
    "                            rel_to.append(url.split(r_xml)[-1])"
   ]
  },
  {
   "cell_type": "code",
   "execution_count": 29,
   "metadata": {},
   "outputs": [
    {
     "name": "stdout",
     "output_type": "stream",
     "text": [
      "225108\n",
      "225108\n",
      "225108\n",
      "182517\n",
      "182517\n",
      "182517\n"
     ]
    }
   ],
   "source": [
    "print(len(entity_id))\n",
    "print(len(entity_value))\n",
    "print(len(entity_label))\n",
    "print(len(rel_from))\n",
    "print(len(rel_to))\n",
    "print(len(rel_type))"
   ]
  },
  {
   "cell_type": "code",
   "execution_count": 30,
   "metadata": {},
   "outputs": [],
   "source": [
    "entity['Wiki:ID(Wiki-ID)'] = entity_id\n",
    "entity['value'] = entity_value\n",
    "entity[':LABEL'] = entity_label\n",
    "rel[':START_ID(Wiki-ID)'] = rel_from\n",
    "rel[':END_ID(Wiki-ID)'] = rel_to\n",
    "rel[':TYPE'] = rel_type"
   ]
  },
  {
   "cell_type": "code",
   "execution_count": 31,
   "metadata": {},
   "outputs": [],
   "source": [
    "entity.to_csv(r'output/wiki_entity.csv', encoding='utf-8', index=False)\n",
    "rel.to_csv(r'output/wiki_rel.csv', encoding='utf-8',  index=False)"
   ]
  },
  {
   "cell_type": "code",
   "execution_count": null,
   "metadata": {},
   "outputs": [],
   "source": [
    "neo4j-admin import --mode=csv --nodes import\\character_entity.csv --nodes import\\event_entity.csv  --relationships import\\character_rel.csv --relationships import\\event_rel.csv\n"
   ]
  }
 ],
 "metadata": {
  "kernelspec": {
   "display_name": "Python 3",
   "language": "python",
   "name": "python3"
  },
  "language_info": {
   "codemirror_mode": {
    "name": "ipython",
    "version": 3
   },
   "file_extension": ".py",
   "mimetype": "text/x-python",
   "name": "python",
   "nbconvert_exporter": "python",
   "pygments_lexer": "ipython3",
   "version": "3.7.4"
  }
 },
 "nbformat": 4,
 "nbformat_minor": 2
}
