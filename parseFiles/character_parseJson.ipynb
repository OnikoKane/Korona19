{
 "cells": [
  {
   "cell_type": "code",
   "execution_count": 30,
   "metadata": {},
   "outputs": [],
   "source": [
    "import pandas as pd\n",
    "import numpy as np\n",
    "import datetime \n",
    "import json"
   ]
  },
  {
   "cell_type": "code",
   "execution_count": 31,
   "metadata": {},
   "outputs": [],
   "source": [
    "def is_date(strdate):\n",
    "    '''判断是否是一个有效的日期字符串'''\n",
    "    try:\n",
    "        if \":\" in strdate:\n",
    "            datetime.datetime.strptime(strdate, \"%Y-%m-%d %H:%M:%S\")\n",
    "        else:\n",
    "            datetime.datetime.strptime(strdate, \"%Y-%m-%d\")\n",
    "        return True\n",
    "    except:\n",
    "        return False"
   ]
  },
  {
   "cell_type": "code",
   "execution_count": 32,
   "metadata": {},
   "outputs": [],
   "source": [
    "c_t = \"http://www.w3.org/2000/01/rdf-schema#Class\"\n",
    "p_t = \"http://www.w3.org/1999/02/22-rdf-syntax-ns#Property\"\n",
    "c_xml = \"http://www.openkg.cn/COVID-19/character/class/\"\n",
    "p_xml = \"http://www.openkg.cn/COVID-19/character/property/\"\n",
    "r_xml = \"http://www.openkg.cn/COVID-19/character/resource/\"\n",
    "\n",
    "path = r\"data/英雄.json\""
   ]
  },
  {
   "cell_type": "code",
   "execution_count": 33,
   "metadata": {},
   "outputs": [],
   "source": [
    "'''创建Map'''\n",
    "class_map = {}\n",
    "property_map = {}"
   ]
  },
  {
   "cell_type": "code",
   "execution_count": 34,
   "metadata": {},
   "outputs": [],
   "source": [
    "with open(path, encoding='utf-8') as f:\n",
    "    f = json.load(f)['@graph']\n",
    "    for G in f:\n",
    "        if G['@type'] == c_t:\n",
    "            if G['@id'].find(c_xml) != -1:\n",
    "                class_map[G['@id'].split(c_xml)[-1]] = G['label']['@value']\n",
    "        elif G['@type'] == p_t:\n",
    "            if G['@id'].find(p_xml) != -1:\n",
    "                property_map[G['@id'].split(p_xml)[-1]] = G['label']['@value']\n",
    "            else:\n",
    "                property_map[G['@id'].replace(':','')] = G['label']['@value']\n",
    "        else:\n",
    "            pass"
   ]
  },
  {
   "cell_type": "code",
   "execution_count": 35,
   "metadata": {},
   "outputs": [],
   "source": [
    "entity_id = []\n",
    "entity_value = []\n",
    "entity_label = []\n",
    "rel_from = []\n",
    "rel_to = []\n",
    "rel_type = []\n",
    "dateC = 1\n",
    "stringC = 1\n",
    "\n",
    "entity = pd.DataFrame()\n",
    "rel = pd.DataFrame()"
   ]
  },
  {
   "cell_type": "code",
   "execution_count": 36,
   "metadata": {},
   "outputs": [],
   "source": [
    "with open(path, encoding='utf-8') as f:\n",
    "    f = json.load(f)['@graph']\n",
    "    for G in f:\n",
    "        if G['@type'].find(c_xml)!= -1:\n",
    "            r_id = G['@id'].split(r_xml)[-1] # main resource的 RID\n",
    "            entity_id.append(r_id)\n",
    "            entity_value.append(G['label']['@value'])\n",
    "            entity_label.append(class_map[G['@type'].split(c_xml)[-1]])\n",
    "            for k in G.keys():\n",
    "                if k.startswith('P'):\n",
    "                    # 一个PID可能有多个对应的Resource 或者是单独的String/Date\n",
    "                    if type(G[k]) == str:\n",
    "                        rel_from.append(r_id)\n",
    "                        rel_type.append(property_map[k]) # 创建main resource和property\n",
    "                        if is_date(G[k]) == True: # 若是date字符串则 需要创建entity 并设置RID\n",
    "                            dr_id = 'character_dR'+ str(dateC) # Character_Date dR+ID\n",
    "                            dateC += 1\n",
    "                            entity_id.append(dr_id)\n",
    "                            entity_value.append(G[k])\n",
    "                            entity_label.append('Character_Date')\n",
    "                            rel_to.append(dr_id) # 记得加上rel_to 连接main resource\n",
    "                            \n",
    "                        elif G[k].find(r_xml) == -1:\n",
    "                        # 若是String的值 同样需要创建entity\n",
    "                            sr_id = 'character_sR'+ str(stringC) # Character_String sR+ID\n",
    "                            stringC += 1\n",
    "                            entity_id.append(sr_id)\n",
    "                            entity_value.append(G[k])\n",
    "                            entity_label.append('Character_String')\n",
    "                            rel_to.append(sr_id) # 记得加上rel_to 连接main resource\n",
    "                        else:\n",
    "                            rel_to.append(G[k].split(r_xml)[-1])\n",
    "                    else: # 若不是str那么就是list, 即url_list\n",
    "                        for url in G[k]:\n",
    "                            rel_from.append(r_id)\n",
    "                            rel_type.append(property_map[k]) # 创建main resource和property\n",
    "                            rel_to.append(url.split(r_xml)[-1])"
   ]
  },
  {
   "cell_type": "code",
   "execution_count": 37,
   "metadata": {},
   "outputs": [
    {
     "name": "stdout",
     "output_type": "stream",
     "text": [
      "1036\n",
      "1036\n",
      "1036\n",
      "1449\n",
      "1449\n",
      "1449\n"
     ]
    }
   ],
   "source": [
    "print(len(entity_id))\n",
    "print(len(entity_value))\n",
    "print(len(entity_label))\n",
    "print(len(rel_from))\n",
    "print(len(rel_to))\n",
    "print(len(rel_type))"
   ]
  },
  {
   "cell_type": "code",
   "execution_count": 38,
   "metadata": {},
   "outputs": [],
   "source": [
    "entity['Character:ID(Character-ID)'] = entity_id\n",
    "entity['value'] = entity_value\n",
    "entity[':LABEL'] = entity_label\n",
    "rel[':START_ID(Character-ID)'] = rel_from\n",
    "rel[':END_ID(Character-ID)'] = rel_to\n",
    "rel[':TYPE'] = rel_type"
   ]
  },
  {
   "cell_type": "code",
   "execution_count": 39,
   "metadata": {},
   "outputs": [],
   "source": [
    "entity.to_csv(r'output/character_entity.csv', encoding='utf-8', index=False)\n",
    "rel.to_csv(r'output/character_rel.csv', encoding='utf-8',  index=False)"
   ]
  },
  {
   "cell_type": "code",
   "execution_count": null,
   "metadata": {},
   "outputs": [],
   "source": [
    "neo4j-admin import --mode=csv --multiline-fields=true \n",
    "--nodes import\\character_entity.csv --nodes import\\event_entity.csv  \n",
    "--nodes import\\concept_entity.csv --nodes import\\goods_entity.csv  \n",
    "--nodes import\\health_entity.csv --nodes import\\medical_entity.csv  \n",
    "--nodes import\\prevention_entity.csv --nodes import\\wiki_entity.csv  \n",
    "\n",
    "--relationships import\\character_rel.csv --relationships import\\event_rel.csv\n",
    "--relationships import\\concept_rel.csv --relationships import\\goods_rel.csv\n",
    "--relationships import\\health_rel.csv --relationships import\\medical_rel.csv\n",
    "--relationships import\\prevention_rel.csv --relationships import\\wiki_rel.csv"
   ]
  },
  {
   "cell_type": "code",
   "execution_count": null,
   "metadata": {},
   "outputs": [],
   "source": [
    "neo4j-admin import --mode=csv --multiline-fields=true --nodes import\\character_entity.csv --nodes import\\event_entity.csv  --nodes import\\concept_entity.csv --nodes import\\goods_entity.csv --nodes import\\health_entity.csv --nodes import\\medical_entity.csv  --nodes import\\prevention_entity.csv --nodes import\\wiki_entity.csv  --relationships import\\character_rel.csv --relationships import\\event_rel.csv --relationships import\\concept_rel.csv --relationships import\\goods_rel.csv --relationships import\\health_rel.csv --relationships import\\medical_rel.csv --relationships import\\prevention_rel.csv --relationships import\\wiki_rel.csv"
   ]
  }
 ],
 "metadata": {
  "kernelspec": {
   "display_name": "Python 3",
   "language": "python",
   "name": "python3"
  },
  "language_info": {
   "codemirror_mode": {
    "name": "ipython",
    "version": 3
   },
   "file_extension": ".py",
   "mimetype": "text/x-python",
   "name": "python",
   "nbconvert_exporter": "python",
   "pygments_lexer": "ipython3",
   "version": "3.7.4"
  }
 },
 "nbformat": 4,
 "nbformat_minor": 2
}
