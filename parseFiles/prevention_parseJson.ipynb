{
 "cells": [
  {
   "cell_type": "code",
   "execution_count": 66,
   "metadata": {},
   "outputs": [],
   "source": [
    "import pandas as pd\n",
    "import numpy as np\n",
    "import datetime \n",
    "import json"
   ]
  },
  {
   "cell_type": "code",
   "execution_count": 67,
   "metadata": {},
   "outputs": [],
   "source": [
    "def is_date(strdate):\n",
    "    '''判断是否是一个有效的日期字符串'''\n",
    "    try:\n",
    "        if \":\" in strdate:\n",
    "            datetime.datetime.strptime(strdate, \"%Y-%m-%d %H:%M:%S\")\n",
    "        else:\n",
    "            datetime.datetime.strptime(strdate, \"%Y-%m-%d\")\n",
    "        return True\n",
    "    except:\n",
    "        return False"
   ]
  },
  {
   "cell_type": "code",
   "execution_count": 68,
   "metadata": {},
   "outputs": [],
   "source": [
    "c_t = \"http://www.w3.org/2002/07/owl#Class\"\n",
    "p_t = \"http://www.w3.org/2002/07/owl#ObjectProperty\"\n",
    "p_t2 = \"http://www.w3.org/2002/07/owl#DatatypeProperty\"\n",
    "label_t =  \"http://www.w3.org/2000/01/rdf-schema#label\"\n",
    "\n",
    "c_xml = \"http://www.openkg.cn/COVID-19/prevention/class/\"\n",
    "p_xml = \"http://www.openkg.cn/COVID-19/prevention/property/\"\n",
    "r_xml = \"http://www.openkg.cn/COVID-19/prevention/resource/\"\n",
    "\n",
    "r_xml2 = \"http://www.openkg.cn/COVID-19/prevention#\"\n",
    "r_type = \"http://www.w3.org/2002/07/owl#NamedIndividual\"\n",
    "\n",
    "path = r\"data/防控.json\""
   ]
  },
  {
   "cell_type": "code",
   "execution_count": 69,
   "metadata": {},
   "outputs": [],
   "source": [
    "'''创建Map'''\n",
    "class_map = {}\n",
    "property_map = {}"
   ]
  },
  {
   "cell_type": "code",
   "execution_count": 70,
   "metadata": {},
   "outputs": [],
   "source": [
    "with open(path, encoding='utf-8') as f:\n",
    "    f = json.load(f)\n",
    "    for G in f:\n",
    "        if G['@type'][0] == c_t:\n",
    "            if G['@id'].find(c_xml) != -1:\n",
    "                class_map[G['@id'].split(c_xml)[-1]] = G[label_t][-1]['@value']\n",
    "        elif G['@type'][0] == p_t or G['@type'][0] == p_t2:\n",
    "            if G['@id'].find(p_xml) != -1:\n",
    "                property_map[G['@id'].split(p_xml)[-1]] = G[label_t][-1]['@value']\n",
    "            else:\n",
    "                property_map[G['@id'].replace(':','')] = G[label_t][-1]['@value']\n",
    "        else:\n",
    "            pass"
   ]
  },
  {
   "cell_type": "code",
   "execution_count": 71,
   "metadata": {},
   "outputs": [
    {
     "data": {
      "text/plain": [
       "{'http//www.openkg.cn/COVID-19/goods/property/P019': '适用人群',\n",
       " 'P022': '适用场所',\n",
       " 'P023': '使用交通工具',\n",
       " 'P0231': '建议使用的交通工具',\n",
       " 'P0232': '不建议使用的交通工具',\n",
       " 'P3': '防护措施相关实体',\n",
       " 'P31': '防护场所',\n",
       " 'P32': '防护对象',\n",
       " 'P33': '防护物资',\n",
       " 'P331': '不建议使用的防护物资',\n",
       " 'P332': '建议使用的防护物资',\n",
       " 'P34': '防护疫情',\n",
       " 'P35': '防护问答',\n",
       " 'P4': '措施相关数据',\n",
       " 'P41': '措施主题',\n",
       " 'P42': '措施描述',\n",
       " 'P5': '前提条件'}"
      ]
     },
     "execution_count": 71,
     "metadata": {},
     "output_type": "execute_result"
    }
   ],
   "source": [
    "property_map"
   ]
  },
  {
   "cell_type": "code",
   "execution_count": 72,
   "metadata": {},
   "outputs": [],
   "source": [
    "entity_id = []\n",
    "entity_value = []\n",
    "entity_label = []\n",
    "rel_from = []\n",
    "rel_to = []\n",
    "rel_type = []\n",
    "dateC = 1\n",
    "stringC = 1\n",
    "\n",
    "entity = pd.DataFrame()\n",
    "rel = pd.DataFrame()"
   ]
  },
  {
   "cell_type": "code",
   "execution_count": 73,
   "metadata": {},
   "outputs": [],
   "source": [
    "with open(path, encoding='utf-8') as f:\n",
    "    f = json.load(f)\n",
    "    for G in f:\n",
    "        if G['@type'][0] == r_type and G['@id'].find(r_xml)!=-1:\n",
    "            r_id = G['@id'].split(r_xml)[-1] # main resource的 RID\n",
    "            entity_id.append(r_id)\n",
    "            entity_value.append(G[label_t][-1]['@value'])\n",
    "            entity_label.append(class_map[G['@type'][-1].split(c_xml)[-1]])\n",
    "            '''Rel'''\n",
    "            for k in G.keys():\n",
    "                if k.find(p_xml)!=-1:\n",
    "                    # 一个PID可能有多个对应的Resource 或者是单独的String/Date\n",
    "                    ktail = k.split(p_xml)[-1] #截去xml 保留P+ID\n",
    "                    # 如果是string则是@value 而若是resource_map则是@id\n",
    "                    if '@id' in G[k][-1]:\n",
    "                        if G[k][-1]['@id'].find(r_xml)!=-1: \n",
    "                            ''' 不要map到goods或者其他表的class'''\n",
    "                            for v in G[k]:\n",
    "                                rel_from.append(r_id)\n",
    "                                rel_type.append(property_map[ktail]) # 创建main resource和property\n",
    "                                rel_to.append(v['@id'].split(r_xml)[-1])\n",
    "                    elif '@value' in G[k][-1]:\n",
    "                        rel_from.append(r_id)\n",
    "                        rel_type.append(property_map[ktail]) # 创建main resource和property\n",
    "                        \n",
    "                        if is_date(G[k][-1]['@value']) == True: # 若是date字符串则 需要创建entity 并设置RID\n",
    "                            dr_id = 'dR'+ str(dateC) # Character_Date dR+ID\n",
    "                            dateC += 1\n",
    "                            entity_id.append(dr_id)\n",
    "                            entity_value.append(G[k][-1]['@value'])\n",
    "                            entity_label.append('Prevention_Date')\n",
    "                            rel_to.append(dr_id) # 记得加上rel_to 连接main resource\n",
    "                            \n",
    "                        else:\n",
    "                        # 若是String的值 同样需要创建entity\n",
    "                            sr_id = 'sR'+ str(stringC) # Character_String sR+ID\n",
    "                            stringC += 1\n",
    "                            entity_id.append(sr_id)\n",
    "                            entity_value.append(G[k][-1]['@value'])\n",
    "                            entity_label.append('Prevention_String')\n",
    "                            rel_to.append(sr_id) # 记得加上rel_to 连接main resource"
   ]
  },
  {
   "cell_type": "code",
   "execution_count": 74,
   "metadata": {},
   "outputs": [
    {
     "name": "stdout",
     "output_type": "stream",
     "text": [
      "782\n",
      "782\n",
      "782\n",
      "512\n",
      "512\n",
      "512\n"
     ]
    }
   ],
   "source": [
    "print(len(entity_id))\n",
    "print(len(entity_value))\n",
    "print(len(entity_label))\n",
    "print(len(rel_from))\n",
    "print(len(rel_to))\n",
    "print(len(rel_type))"
   ]
  },
  {
   "cell_type": "code",
   "execution_count": 75,
   "metadata": {},
   "outputs": [],
   "source": [
    "entity['Prevention:ID(Prevention-ID)'] = entity_id\n",
    "entity['value'] = entity_value\n",
    "entity[':LABEL'] = entity_label\n",
    "rel[':START_ID(Prevention-ID)'] = rel_from\n",
    "rel[':END_ID(Prevention-ID)'] = rel_to\n",
    "rel[':TYPE'] = rel_type"
   ]
  },
  {
   "cell_type": "code",
   "execution_count": 76,
   "metadata": {},
   "outputs": [],
   "source": [
    "entity.to_csv(r'output/prevention_entity.csv', encoding='utf-8', index=False)\n",
    "rel.to_csv(r'output/prevention_rel.csv', encoding='utf-8',  index=False)"
   ]
  },
  {
   "cell_type": "code",
   "execution_count": null,
   "metadata": {},
   "outputs": [],
   "source": []
  }
 ],
 "metadata": {
  "kernelspec": {
   "display_name": "Python 3",
   "language": "python",
   "name": "python3"
  },
  "language_info": {
   "codemirror_mode": {
    "name": "ipython",
    "version": 3
   },
   "file_extension": ".py",
   "mimetype": "text/x-python",
   "name": "python",
   "nbconvert_exporter": "python",
   "pygments_lexer": "ipython3",
   "version": "3.7.4"
  }
 },
 "nbformat": 4,
 "nbformat_minor": 2
}
